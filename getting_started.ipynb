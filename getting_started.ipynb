{
  "nbformat": 4,
  "nbformat_minor": 0,
  "metadata": {
    "colab": {
      "provenance": []
    },
    "kernelspec": {
      "name": "python3",
      "display_name": "Python 3"
    },
    "language_info": {
      "name": "python"
    }
  },
  "cells": [
    {
      "cell_type": "markdown",
      "source": [
        "# **Puddle World**\n",
        "\n",
        "In this guide, we provide a step-by-step walkthrough on preparing the Puddle World environment for the Competition.\n",
        "\n",
        "Firstly, we cover the installation of the environment and related dependencies, both for local setup and utilization within a Colab notebook.\n",
        "\n",
        "Next, we detail the process of initializing the environment with desired configurations and demonstrate how to visualize its characteristics. The goal of the competition is to design an agent that does well in the five provided configurations. Therefore, we show you how to load all the various versions of the environment and inspect their characteristics.\n",
        "\n",
        "Given the objective of designing a competent agent, we present suggestions for deploying random, human, or untuned DQN agents within the environment. Observing all these different baseline behaviors serves as a valuable starting point for your work.\n",
        "\n",
        "Finally, it's time to design and train a single agent capable of superior performance across the five configurations of the environment. Testing the agent on these configurations, with the first being the default environment as described in the paper, is crucial. We provide instructions on saving results in a CSV file for submission, marking the beginning of your journey.\n",
        "\n",
        "Whether you're new to the field and eager to explore or an experienced practitioner aiming to refine your skills, this competition provides a platform to utilize your knowledge and creativity!"
      ],
      "metadata": {
        "id": "8xvu5Qvb3sYH"
      }
    },
    {
      "cell_type": "markdown",
      "source": [
        "# 1. Installing the Requirements"
      ],
      "metadata": {
        "id": "IIhADOEiMMNG"
      }
    },
    {
      "cell_type": "markdown",
      "source": [
        "In this section, you can find the necessary information for installing the environment and relavant libraries for your work."
      ],
      "metadata": {
        "id": "xfH70vPMXZDI"
      }
    },
    {
      "cell_type": "markdown",
      "source": [
        "## 1.1. For Google Colab\n",
        "\n",
        "You can access the gym-puddle library for colab by installing the repository by the following command.\n",
        "You can also include other necessary installations of your own here."
      ],
      "metadata": {
        "id": "4GMv0w4DMQIt"
      }
    },
    {
      "cell_type": "code",
      "execution_count": 1,
      "metadata": {
        "colab": {
          "base_uri": "https://localhost:8080/"
        },
        "id": "bZ1-mRKkhiYK",
        "outputId": "951417f0-418b-458a-d96a-ef6414739e06"
      },
      "outputs": [
        {
          "output_type": "stream",
          "name": "stdout",
          "text": [
            "Collecting git+https://github.com/Amii-Open-Source/gym-puddle\n",
            "  Cloning https://github.com/Amii-Open-Source/gym-puddle to /tmp/pip-req-build-ko_upvvu\n",
            "  Running command git clone --filter=blob:none --quiet https://github.com/Amii-Open-Source/gym-puddle /tmp/pip-req-build-ko_upvvu\n",
            "  Resolved https://github.com/Amii-Open-Source/gym-puddle to commit 379d5542de9b390f52487362f54367dd0ff75aee\n",
            "  Preparing metadata (setup.py) ... \u001b[?25l\u001b[?25hdone\n",
            "Requirement already satisfied: gymnasium in /usr/local/lib/python3.10/dist-packages (from gym-puddle==0.0.2) (0.29.1)\n",
            "Requirement already satisfied: pygame in /usr/local/lib/python3.10/dist-packages (from gym-puddle==0.0.2) (2.5.2)\n",
            "Requirement already satisfied: numpy>=1.21.0 in /usr/local/lib/python3.10/dist-packages (from gymnasium->gym-puddle==0.0.2) (1.26.4)\n",
            "Requirement already satisfied: cloudpickle>=1.2.0 in /usr/local/lib/python3.10/dist-packages (from gymnasium->gym-puddle==0.0.2) (2.2.1)\n",
            "Requirement already satisfied: typing-extensions>=4.3.0 in /usr/local/lib/python3.10/dist-packages (from gymnasium->gym-puddle==0.0.2) (4.10.0)\n",
            "Requirement already satisfied: farama-notifications>=0.0.1 in /usr/local/lib/python3.10/dist-packages (from gymnasium->gym-puddle==0.0.2) (0.0.4)\n",
            "Collecting git+https://github.com/DLR-RM/stable-baselines3@f375cc393938a6b4e4dc0fb1de82b4afca37c1bd\n",
            "  Cloning https://github.com/DLR-RM/stable-baselines3 (to revision f375cc393938a6b4e4dc0fb1de82b4afca37c1bd) to /tmp/pip-req-build-8j_5w5sg\n",
            "  Running command git clone --filter=blob:none --quiet https://github.com/DLR-RM/stable-baselines3 /tmp/pip-req-build-8j_5w5sg\n",
            "  Running command git rev-parse -q --verify 'sha^f375cc393938a6b4e4dc0fb1de82b4afca37c1bd'\n",
            "  Running command git fetch -q https://github.com/DLR-RM/stable-baselines3 f375cc393938a6b4e4dc0fb1de82b4afca37c1bd\n",
            "  Running command git checkout -q f375cc393938a6b4e4dc0fb1de82b4afca37c1bd\n",
            "  Resolved https://github.com/DLR-RM/stable-baselines3 to commit f375cc393938a6b4e4dc0fb1de82b4afca37c1bd\n",
            "  Installing build dependencies ... \u001b[?25l\u001b[?25hdone\n",
            "  Getting requirements to build wheel ... \u001b[?25l\u001b[?25hdone\n",
            "  Preparing metadata (pyproject.toml) ... \u001b[?25l\u001b[?25hdone\n",
            "Requirement already satisfied: gymnasium<0.30,>=0.28.1 in /usr/local/lib/python3.10/dist-packages (from stable_baselines3==2.3.0a3) (0.29.1)\n",
            "Requirement already satisfied: numpy>=1.20 in /usr/local/lib/python3.10/dist-packages (from stable_baselines3==2.3.0a3) (1.26.4)\n",
            "Requirement already satisfied: torch>=1.13 in /usr/local/lib/python3.10/dist-packages (from stable_baselines3==2.3.0a3) (2.2.1+cu121)\n",
            "Requirement already satisfied: cloudpickle in /usr/local/lib/python3.10/dist-packages (from stable_baselines3==2.3.0a3) (2.2.1)\n",
            "Requirement already satisfied: pandas in /usr/local/lib/python3.10/dist-packages (from stable_baselines3==2.3.0a3) (2.0.3)\n",
            "Requirement already satisfied: matplotlib in /usr/local/lib/python3.10/dist-packages (from stable_baselines3==2.3.0a3) (3.7.1)\n",
            "Requirement already satisfied: typing-extensions>=4.3.0 in /usr/local/lib/python3.10/dist-packages (from gymnasium<0.30,>=0.28.1->stable_baselines3==2.3.0a3) (4.10.0)\n",
            "Requirement already satisfied: farama-notifications>=0.0.1 in /usr/local/lib/python3.10/dist-packages (from gymnasium<0.30,>=0.28.1->stable_baselines3==2.3.0a3) (0.0.4)\n",
            "Requirement already satisfied: filelock in /usr/local/lib/python3.10/dist-packages (from torch>=1.13->stable_baselines3==2.3.0a3) (3.13.3)\n",
            "Requirement already satisfied: sympy in /usr/local/lib/python3.10/dist-packages (from torch>=1.13->stable_baselines3==2.3.0a3) (1.12)\n",
            "Requirement already satisfied: networkx in /usr/local/lib/python3.10/dist-packages (from torch>=1.13->stable_baselines3==2.3.0a3) (3.2.1)\n",
            "Requirement already satisfied: jinja2 in /usr/local/lib/python3.10/dist-packages (from torch>=1.13->stable_baselines3==2.3.0a3) (3.1.3)\n",
            "Requirement already satisfied: fsspec in /usr/local/lib/python3.10/dist-packages (from torch>=1.13->stable_baselines3==2.3.0a3) (2023.6.0)\n",
            "Requirement already satisfied: nvidia-cuda-nvrtc-cu12==12.1.105 in /usr/local/lib/python3.10/dist-packages (from torch>=1.13->stable_baselines3==2.3.0a3) (12.1.105)\n",
            "Requirement already satisfied: nvidia-cuda-runtime-cu12==12.1.105 in /usr/local/lib/python3.10/dist-packages (from torch>=1.13->stable_baselines3==2.3.0a3) (12.1.105)\n",
            "Requirement already satisfied: nvidia-cuda-cupti-cu12==12.1.105 in /usr/local/lib/python3.10/dist-packages (from torch>=1.13->stable_baselines3==2.3.0a3) (12.1.105)\n",
            "Requirement already satisfied: nvidia-cudnn-cu12==8.9.2.26 in /usr/local/lib/python3.10/dist-packages (from torch>=1.13->stable_baselines3==2.3.0a3) (8.9.2.26)\n",
            "Requirement already satisfied: nvidia-cublas-cu12==12.1.3.1 in /usr/local/lib/python3.10/dist-packages (from torch>=1.13->stable_baselines3==2.3.0a3) (12.1.3.1)\n",
            "Requirement already satisfied: nvidia-cufft-cu12==11.0.2.54 in /usr/local/lib/python3.10/dist-packages (from torch>=1.13->stable_baselines3==2.3.0a3) (11.0.2.54)\n",
            "Requirement already satisfied: nvidia-curand-cu12==10.3.2.106 in /usr/local/lib/python3.10/dist-packages (from torch>=1.13->stable_baselines3==2.3.0a3) (10.3.2.106)\n",
            "Requirement already satisfied: nvidia-cusolver-cu12==11.4.5.107 in /usr/local/lib/python3.10/dist-packages (from torch>=1.13->stable_baselines3==2.3.0a3) (11.4.5.107)\n",
            "Requirement already satisfied: nvidia-cusparse-cu12==12.1.0.106 in /usr/local/lib/python3.10/dist-packages (from torch>=1.13->stable_baselines3==2.3.0a3) (12.1.0.106)\n",
            "Requirement already satisfied: nvidia-nccl-cu12==2.19.3 in /usr/local/lib/python3.10/dist-packages (from torch>=1.13->stable_baselines3==2.3.0a3) (2.19.3)\n",
            "Requirement already satisfied: nvidia-nvtx-cu12==12.1.105 in /usr/local/lib/python3.10/dist-packages (from torch>=1.13->stable_baselines3==2.3.0a3) (12.1.105)\n",
            "Requirement already satisfied: triton==2.2.0 in /usr/local/lib/python3.10/dist-packages (from torch>=1.13->stable_baselines3==2.3.0a3) (2.2.0)\n",
            "Requirement already satisfied: nvidia-nvjitlink-cu12 in /usr/local/lib/python3.10/dist-packages (from nvidia-cusolver-cu12==11.4.5.107->torch>=1.13->stable_baselines3==2.3.0a3) (12.4.127)\n",
            "Requirement already satisfied: contourpy>=1.0.1 in /usr/local/lib/python3.10/dist-packages (from matplotlib->stable_baselines3==2.3.0a3) (1.2.0)\n",
            "Requirement already satisfied: cycler>=0.10 in /usr/local/lib/python3.10/dist-packages (from matplotlib->stable_baselines3==2.3.0a3) (0.12.1)\n",
            "Requirement already satisfied: fonttools>=4.22.0 in /usr/local/lib/python3.10/dist-packages (from matplotlib->stable_baselines3==2.3.0a3) (4.50.0)\n",
            "Requirement already satisfied: kiwisolver>=1.0.1 in /usr/local/lib/python3.10/dist-packages (from matplotlib->stable_baselines3==2.3.0a3) (1.4.5)\n",
            "Requirement already satisfied: packaging>=20.0 in /usr/local/lib/python3.10/dist-packages (from matplotlib->stable_baselines3==2.3.0a3) (24.0)\n",
            "Requirement already satisfied: pillow>=6.2.0 in /usr/local/lib/python3.10/dist-packages (from matplotlib->stable_baselines3==2.3.0a3) (9.4.0)\n",
            "Requirement already satisfied: pyparsing>=2.3.1 in /usr/local/lib/python3.10/dist-packages (from matplotlib->stable_baselines3==2.3.0a3) (3.1.2)\n",
            "Requirement already satisfied: python-dateutil>=2.7 in /usr/local/lib/python3.10/dist-packages (from matplotlib->stable_baselines3==2.3.0a3) (2.8.2)\n",
            "Requirement already satisfied: pytz>=2020.1 in /usr/local/lib/python3.10/dist-packages (from pandas->stable_baselines3==2.3.0a3) (2023.4)\n",
            "Requirement already satisfied: tzdata>=2022.1 in /usr/local/lib/python3.10/dist-packages (from pandas->stable_baselines3==2.3.0a3) (2024.1)\n",
            "Requirement already satisfied: six>=1.5 in /usr/local/lib/python3.10/dist-packages (from python-dateutil>=2.7->matplotlib->stable_baselines3==2.3.0a3) (1.16.0)\n",
            "Requirement already satisfied: MarkupSafe>=2.0 in /usr/local/lib/python3.10/dist-packages (from jinja2->torch>=1.13->stable_baselines3==2.3.0a3) (2.1.5)\n",
            "Requirement already satisfied: mpmath>=0.19 in /usr/local/lib/python3.10/dist-packages (from sympy->torch>=1.13->stable_baselines3==2.3.0a3) (1.3.0)\n",
            "Reading package lists... Done\n",
            "Building dependency tree... Done\n",
            "Reading state information... Done\n",
            "x11-utils is already the newest version (7.7+5build2).\n",
            "xvfb is already the newest version (2:21.1.4-2ubuntu1.7~22.04.8).\n",
            "0 upgraded, 0 newly installed, 0 to remove and 45 not upgraded.\n",
            "Requirement already satisfied: pyvirtualdisplay in /usr/local/lib/python3.10/dist-packages (3.0)\n",
            "Requirement already satisfied: ipykernel in /usr/local/lib/python3.10/dist-packages (6.29.4)\n",
            "Requirement already satisfied: comm>=0.1.1 in /usr/local/lib/python3.10/dist-packages (from ipykernel) (0.2.2)\n",
            "Requirement already satisfied: debugpy>=1.6.5 in /usr/local/lib/python3.10/dist-packages (from ipykernel) (1.6.6)\n",
            "Requirement already satisfied: ipython>=7.23.1 in /usr/local/lib/python3.10/dist-packages (from ipykernel) (7.34.0)\n",
            "Requirement already satisfied: jupyter-client>=6.1.12 in /usr/local/lib/python3.10/dist-packages (from ipykernel) (6.1.12)\n",
            "Requirement already satisfied: jupyter-core!=5.0.*,>=4.12 in /usr/local/lib/python3.10/dist-packages (from ipykernel) (5.7.2)\n",
            "Requirement already satisfied: matplotlib-inline>=0.1 in /usr/local/lib/python3.10/dist-packages (from ipykernel) (0.1.6)\n",
            "Requirement already satisfied: nest-asyncio in /usr/local/lib/python3.10/dist-packages (from ipykernel) (1.6.0)\n",
            "Requirement already satisfied: packaging in /usr/local/lib/python3.10/dist-packages (from ipykernel) (24.0)\n",
            "Requirement already satisfied: psutil in /usr/local/lib/python3.10/dist-packages (from ipykernel) (5.9.5)\n",
            "Requirement already satisfied: pyzmq>=24 in /usr/local/lib/python3.10/dist-packages (from ipykernel) (25.1.2)\n",
            "Requirement already satisfied: tornado>=6.1 in /usr/local/lib/python3.10/dist-packages (from ipykernel) (6.3.3)\n",
            "Requirement already satisfied: traitlets>=5.4.0 in /usr/local/lib/python3.10/dist-packages (from ipykernel) (5.7.1)\n",
            "Requirement already satisfied: setuptools>=18.5 in /usr/local/lib/python3.10/dist-packages (from ipython>=7.23.1->ipykernel) (67.7.2)\n",
            "Requirement already satisfied: jedi>=0.16 in /usr/local/lib/python3.10/dist-packages (from ipython>=7.23.1->ipykernel) (0.19.1)\n",
            "Requirement already satisfied: decorator in /usr/local/lib/python3.10/dist-packages (from ipython>=7.23.1->ipykernel) (4.4.2)\n",
            "Requirement already satisfied: pickleshare in /usr/local/lib/python3.10/dist-packages (from ipython>=7.23.1->ipykernel) (0.7.5)\n",
            "Requirement already satisfied: prompt-toolkit!=3.0.0,!=3.0.1,<3.1.0,>=2.0.0 in /usr/local/lib/python3.10/dist-packages (from ipython>=7.23.1->ipykernel) (3.0.43)\n",
            "Requirement already satisfied: pygments in /usr/local/lib/python3.10/dist-packages (from ipython>=7.23.1->ipykernel) (2.16.1)\n",
            "Requirement already satisfied: backcall in /usr/local/lib/python3.10/dist-packages (from ipython>=7.23.1->ipykernel) (0.2.0)\n",
            "Requirement already satisfied: pexpect>4.3 in /usr/local/lib/python3.10/dist-packages (from ipython>=7.23.1->ipykernel) (4.9.0)\n",
            "Requirement already satisfied: python-dateutil>=2.1 in /usr/local/lib/python3.10/dist-packages (from jupyter-client>=6.1.12->ipykernel) (2.8.2)\n",
            "Requirement already satisfied: platformdirs>=2.5 in /usr/local/lib/python3.10/dist-packages (from jupyter-core!=5.0.*,>=4.12->ipykernel) (4.2.0)\n",
            "Requirement already satisfied: parso<0.9.0,>=0.8.3 in /usr/local/lib/python3.10/dist-packages (from jedi>=0.16->ipython>=7.23.1->ipykernel) (0.8.3)\n",
            "Requirement already satisfied: ptyprocess>=0.5 in /usr/local/lib/python3.10/dist-packages (from pexpect>4.3->ipython>=7.23.1->ipykernel) (0.7.0)\n",
            "Requirement already satisfied: wcwidth in /usr/local/lib/python3.10/dist-packages (from prompt-toolkit!=3.0.0,!=3.0.1,<3.1.0,>=2.0.0->ipython>=7.23.1->ipykernel) (0.2.13)\n",
            "Requirement already satisfied: six>=1.5 in /usr/local/lib/python3.10/dist-packages (from python-dateutil>=2.1->jupyter-client>=6.1.12->ipykernel) (1.16.0)\n"
          ]
        }
      ],
      "source": [
        "!pip install git+https://github.com/Amii-Open-Source/gym-puddle\n",
        "!pip install git+https://github.com/DLR-RM/stable-baselines3@f375cc393938a6b4e4dc0fb1de82b4afca37c1bd\n",
        "!apt-get install -y xvfb x11-utils\n",
        "!pip install pyvirtualdisplay\n",
        "!pip install --upgrade ipykernel"
      ]
    },
    {
      "cell_type": "markdown",
      "source": [
        "## 1.2. Local\n",
        "\n",
        "You can install the library locally by making a virtual environment, and installing the library by pip. The following commands show the details\n",
        "You can also find the exact versions of other libraries in the `setup.py` file in the repository.\n",
        "\n",
        "\n",
        "```\n",
        "python -m venv myenv\n",
        "source myenv/bin/activate\n",
        "pip install -e .\n",
        "```\n",
        "\n"
      ],
      "metadata": {
        "id": "fiDfhcj-MVoo"
      }
    },
    {
      "cell_type": "markdown",
      "source": [
        "# 2. Introduction to the Environment"
      ],
      "metadata": {
        "id": "WIJjN7wM36mV"
      }
    },
    {
      "cell_type": "markdown",
      "source": [
        "The \"Puddle World\" environment provides an interface for reinforcement learning experiments. It features puddles and challenges agents to navigate to specified goal positions while avoiding the puddles with larger negative rewards.\n",
        "You can access key details like starting position, goal location, and action noise levels. By printing these attributes, you can gain insights into the environment's layout and develop strategies for training reinforcement learning algorithms effectively within the Puddle World domain.\n",
        "Here is the default Puddle World configuration inspired by the [original paper](/http://incompleteideas.net/papers/sutton-96.pdf):\n",
        "\n",
        "**Actions**\n",
        "\n",
        "There are four actions: up, down, right, and left.\n",
        "Each action moves approximately 0.05 in these directions. For the case where an action would take the agent out of the screen limits, the action does not move the agent instead.\n",
        "\n",
        "A random gaussian noise with standard deviation 0.01 is also added to the motion along both dimensions.\n",
        "\n",
        "**Reward**\n",
        "\n",
        "The reward is -1 for each time step, plus some additional penalty if the agent gets into the puddle.\n",
        "The penalty is -400 times the distance into the puddle (distance to the nearest edge).\n",
        "\n",
        "\n",
        "**Puddle Positions**\n",
        "\n",
        "The puddles's top-left position is [0.  , 0.85] and [0.35, 0.9] respectively, and the width and height for them is [0.55, 0.2 ] and [0.2, 0.6].\n",
        "\n",
        "**Start Position**\n",
        "\n",
        "The agent starts each episode at [0.2, 0.4].\n",
        "\n",
        "**Goal Position**\n",
        "\n",
        "The episode ends succesfully if the agent reaches [1.0, 1.0] which is the goal position.\n"
      ],
      "metadata": {
        "id": "hgVQx5wsZ6No"
      }
    },
    {
      "cell_type": "code",
      "source": [
        "import gymnasium as gym\n",
        "import gym_puddle\n",
        "\n",
        "from stable_baselines3 import DQN\n",
        "from stable_baselines3.dqn import MlpPolicy as DQNPolicy\n",
        "\n",
        "import time\n",
        "import json\n",
        "\n",
        "import matplotlib.pyplot as plt\n",
        "import numpy as np\n",
        "\n",
        "from IPython import display\n",
        "import pyvirtualdisplay\n",
        "import cv2"
      ],
      "metadata": {
        "id": "-l8sBVaJgHZM",
        "colab": {
          "base_uri": "https://localhost:8080/"
        },
        "outputId": "5020298e-2878-4e91-95c1-f6c36134ea00"
      },
      "execution_count": 2,
      "outputs": [
        {
          "output_type": "stream",
          "name": "stderr",
          "text": [
            "2024-04-05 19:53:01.127731: E external/local_xla/xla/stream_executor/cuda/cuda_dnn.cc:9261] Unable to register cuDNN factory: Attempting to register factory for plugin cuDNN when one has already been registered\n",
            "2024-04-05 19:53:01.127852: E external/local_xla/xla/stream_executor/cuda/cuda_fft.cc:607] Unable to register cuFFT factory: Attempting to register factory for plugin cuFFT when one has already been registered\n",
            "2024-04-05 19:53:01.292119: E external/local_xla/xla/stream_executor/cuda/cuda_blas.cc:1515] Unable to register cuBLAS factory: Attempting to register factory for plugin cuBLAS when one has already been registered\n",
            "2024-04-05 19:53:01.635363: I tensorflow/core/platform/cpu_feature_guard.cc:182] This TensorFlow binary is optimized to use available CPU instructions in performance-critical operations.\n",
            "To enable the following instructions: AVX2 FMA, in other operations, rebuild TensorFlow with the appropriate compiler flags.\n",
            "2024-04-05 19:53:04.654976: W tensorflow/compiler/tf2tensorrt/utils/py_utils.cc:38] TF-TRT Warning: Could not find TensorRT\n"
          ]
        }
      ]
    },
    {
      "cell_type": "markdown",
      "source": [
        "Here are the printed details about the environment."
      ],
      "metadata": {
        "id": "PCZgqX8EvWLo"
      }
    },
    {
      "cell_type": "code",
      "source": [
        "  env = gym.make(\"PuddleWorld-v0\")\n",
        "\n",
        "  print(\"env\", env)\n",
        "  print(\"start position:\", env.get_wrapper_attr(\"start\"))\n",
        "  print(\"goal position:\", env.get_wrapper_attr(\"goal\"))\n",
        "  print(\"goal threshold:\", env.get_wrapper_attr(\"goal_threshold\"))\n",
        "  print(\"action noise:\", env.get_wrapper_attr(\"noise\"))\n",
        "  print(\"agent's thrust:\", env.get_wrapper_attr(\"thrust\"))\n",
        "  print(\"puddle top left positions:\", env.get_wrapper_attr(\"puddle_top_left\"))\n",
        "  print(\"puddle widths and heights:\", env.get_wrapper_attr(\"puddle_width\"))\n",
        "  print(\"action space:\", env.get_wrapper_attr(\"actions\"))\n",
        "  print(\"observation space:\", env.get_wrapper_attr(\"observation_space\"))"
      ],
      "metadata": {
        "colab": {
          "base_uri": "https://localhost:8080/"
        },
        "id": "5nx5pViOgfWX",
        "outputId": "b15aea32-eb3f-4a56-d424-badc1044e57d"
      },
      "execution_count": 3,
      "outputs": [
        {
          "output_type": "stream",
          "name": "stdout",
          "text": [
            "env <OrderEnforcing<PassiveEnvChecker<PuddleEnv<PuddleWorld-v0>>>>\n",
            "start position: [0.2 0.4]\n",
            "goal position: [1. 1.]\n",
            "goal threshold: 0.1\n",
            "action noise: 0.01\n",
            "agent's thrust: 0.05\n",
            "puddle top left positions: [array([0.  , 0.85]), array([0.35, 0.9 ])]\n",
            "puddle widths and heights: [array([0.55, 0.2 ]), array([0.2, 0.6])]\n",
            "action space: [array([-0.05,  0.  ]), array([0.05, 0.  ]), array([ 0.  , -0.05]), array([0.  , 0.05])]\n",
            "observation space: Box(0.0, 1.0, (2,), float64)\n"
          ]
        }
      ]
    },
    {
      "cell_type": "markdown",
      "source": [
        "Here is the visualization of the environment for the default configuration."
      ],
      "metadata": {
        "id": "Q3zuQ4I4vdfm"
      }
    },
    {
      "cell_type": "code",
      "source": [
        "obs, info = env.reset()\n",
        "fig, ax = plt.subplots(figsize=(20, 10))\n",
        "ax.axis('off')\n",
        "img = env.render()\n",
        "img_with_frame = np.zeros((img.shape[0]+2, img.shape[1]+2, 3), dtype=np.uint8)\n",
        "img_with_frame[1:-1, 1:-1, :] = img\n",
        "img = ax.imshow(img_with_frame)\n",
        "display.display(plt.gcf())\n",
        "display.clear_output(wait=True)"
      ],
      "metadata": {
        "colab": {
          "base_uri": "https://localhost:8080/",
          "height": 808
        },
        "id": "csQiaih2pfgr",
        "outputId": "18da8650-4fe7-42a3-9cf3-5dcdee0acc1c"
      },
      "execution_count": 4,
      "outputs": [
        {
          "output_type": "display_data",
          "data": {
            "text/plain": [
              "<Figure size 2000x1000 with 1 Axes>"
            ],
            "image/png": "[encoded data removed]"
          },
          "metadata": {}
        }
      ]
    },
    {
      "cell_type": "code",
      "source": [
        "#some functions to help the visualization\n",
        "def visualize(frames, video_name = \"video.mp4\"):\n",
        "    # Save the frames as an mp4 video using cv2\n",
        "    video_path = video_name\n",
        "    height, width, _ = frames[0].shape\n",
        "    fourcc = cv2.VideoWriter_fourcc(*\"mp4v\")\n",
        "    video_writer = cv2.VideoWriter(video_path, fourcc, 30, (width, height))\n",
        "    for frame in frames:\n",
        "        video_writer.write(frame)\n",
        "    video_writer.release()\n",
        "\n",
        "def online_rendering(image):\n",
        "    img_with_frame = np.zeros((image.shape[0]+2, image.shape[1]+2, 3), dtype=np.uint8)\n",
        "    img_with_frame[1:-1, 1:-1, :] = image\n",
        "    ax.imshow(img_with_frame)\n",
        "    display.display(plt.gcf())\n",
        "    display.clear_output(wait=True)"
      ],
      "metadata": {
        "id": "_O2Y4pxziS-g"
      },
      "execution_count": 5,
      "outputs": []
    },
    {
      "cell_type": "markdown",
      "source": [
        "## 2.1 Accessing Different Environment Configurations\n",
        "\n",
        "Your task is to train an agent that can generalize well across different provided configurations of the environment. Each of these configurations feature different positions for puddles, which makes it challenging for the agent to find the most rewarding path to the goal.\n",
        "\n",
        "\n",
        "You can find these configurations in the `env_configs` folder of the repository. In order to access each version of the environment, you can provide the `.json` file indicating the environment details, and intitialize the puddle world as follows:\n",
        "(Note that if you are using colab, you should upload the configs to the files section of the colab)\n",
        "The puddle positions are different in these configurations, but other aspects of the environment remain the same."
      ],
      "metadata": {
        "id": "bpR--ha9O_mq"
      }
    },
    {
      "cell_type": "code",
      "source": [
        "json_file = f\"/content/pw3.json\"\n",
        "\n",
        "with open(json_file) as f:\n",
        "  env_setup = json.load(f)\n",
        "\n",
        "env = gym.make(\n",
        "  \"PuddleWorld-v0\",\n",
        "  start=env_setup[\"start\"],\n",
        "  goal=env_setup[\"goal\"],\n",
        "  goal_threshold=env_setup[\"goal_threshold\"],\n",
        "  noise=env_setup[\"noise\"],\n",
        "  thrust=env_setup[\"thrust\"],\n",
        "  puddle_top_left=env_setup[\"puddle_top_left\"],\n",
        "  puddle_width=env_setup[\"puddle_width\"],\n",
        ")\n",
        "\n",
        "obs, info = env.reset()\n",
        "fig, ax = plt.subplots(figsize=(20, 10))\n",
        "ax.axis('off')\n",
        "img = env.render()\n",
        "img_with_frame = np.zeros((img.shape[0]+2, img.shape[1]+2, 3), dtype=np.uint8)\n",
        "img_with_frame[1:-1, 1:-1, :] = img\n",
        "img = ax.imshow(img_with_frame)\n",
        "display.display(plt.gcf())\n",
        "display.clear_output(wait=True)"
      ],
      "metadata": {
        "colab": {
          "base_uri": "https://localhost:8080/",
          "height": 808
        },
        "id": "ZYDRdKW9O_QT",
        "outputId": "0317938d-628c-442f-d8d6-eae369170cfb"
      },
      "execution_count": 7,
      "outputs": [
        {
          "output_type": "display_data",
          "data": {
            "text/plain": [
              "<Figure size 2000x1000 with 1 Axes>"
            ],
            "image/png": "[encoded data removed]"
          },
          "metadata": {}
        }
      ]
    },
    {
      "cell_type": "markdown",
      "source": [
        "# 3. Developing the Agents"
      ],
      "metadata": {
        "id": "M2BaWj4cMaLW"
      }
    },
    {
      "cell_type": "markdown",
      "source": [
        "In preparation for the competition, we dive into the exploration of the RL framework through the introduction of three distinct agent types: random, human, and Deep Q-Network (DQN) agents.\n",
        "\n",
        "Each agent represents varying levels of sophistication and learning abilities within the Puddle World environment. This comprehensive investigation allows us to gain valuable insights into key aspects of the environment as well as exploring RL-related methods such as the utilization of deep reinforcement learning strategies, and related libraries.\n",
        "\n",
        "Through this exploration, you can familiarize yourself with the environment, grasp the details of the training loop, and become proficient in utilizing essential libraries such as Stable Baselines. This could be a starting point for building your own agent, either using existing libraries, and modifying them to your desires, or implementing new ideas from cutting-edge RL research!"
      ],
      "metadata": {
        "id": "jtTuBkjbQ7MS"
      }
    },
    {
      "cell_type": "markdown",
      "source": [
        "## 3.1. Random Agent\n"
      ],
      "metadata": {
        "id": "Jg6H4SmN4HWz"
      }
    },
    {
      "cell_type": "markdown",
      "source": [
        "In this section, a \"random agent\" is deployed to interact with the Puddle World environment. The environment is initialized and visualized, providing a starting point for the agent to explore the world. The random agent **selects actions randomly from the action space and applies them to the environment**. This process is repeated for a predetermined number of time steps (in this case, 10 steps). After each step, the agent's reward is accumulated, and the interaction is visualized through rendering the environment. Finally, the total reward earned in the total time steps is displayed, and the sequence of frames captured during the interaction is saved as a video for further analysis. This random agent serves as a baseline for you to see how the envrionemt works and prepare for the performance of more sophisticated reinforcement learning algorithms in the Puddle World environment."
      ],
      "metadata": {
        "id": "IdSBKNZyego-"
      }
    },
    {
      "cell_type": "code",
      "source": [
        "#_display = pyvirtualdisplay.Display(visible=False,size=(1400, 900))  # use False with Xvfb #uncomment for online visualization\n",
        "#_ = _display.start()\n",
        "#fig, ax = plt.subplots(figsize=(20, 10))\n",
        "#ax.axis('off')\n",
        "\n",
        "\n",
        "\n",
        "env = gym.make(\"PuddleWorld-v0\")\n",
        "\n",
        "obs, info = env.reset()\n",
        "total_reward = 0\n",
        "episode_rewards = []\n",
        "frames = []\n",
        "\n",
        "for time_step in range(10):\n",
        "    action = env.action_space.sample()  # take a random action\n",
        "    observation, reward, done, trunc, info = env.step(action)\n",
        "    total_reward += reward\n",
        "\n",
        "\n",
        "    image = env.render()\n",
        "    #online_rendering(image)\n",
        "    frames.append(image)\n",
        "\n",
        "    #print(f\" t: {time_step}, observation: {observation}, reward: {reward}\")\n",
        "\n",
        "    if done:\n",
        "      print(f\"total reward in this episode: {total_reward}\")\n",
        "      episode_rewards.append(total_reward)\n",
        "      total_reward = 0\n",
        "      break\n",
        "\n",
        "env.close()\n",
        "if episode_rewards == []:\n",
        "  print(\"no episode finished in this run.\")\n",
        "else:\n",
        "  for i, reward in enumerate(episode_rewards):\n",
        "    print(f\"episode {i}: reward: {reward}\")\n",
        "visualize(frames, \"random.mp4\")\n"
      ],
      "metadata": {
        "id": "TV4sJQiXQi2i",
        "colab": {
          "base_uri": "https://localhost:8080/"
        },
        "outputId": "178ffb01-87d0-450a-c514-b256a4f8074d"
      },
      "execution_count": 9,
      "outputs": [
        {
          "output_type": "stream",
          "name": "stdout",
          "text": [
            "no episode finished in this run.\n"
          ]
        }
      ]
    },
    {
      "cell_type": "markdown",
      "source": [
        "## 3.2. Human Agent"
      ],
      "metadata": {
        "id": "Fp1z_dMMisxp"
      }
    },
    {
      "cell_type": "markdown",
      "source": [
        "In this section, a \"Human Agent\" is introduced to interact with the Puddle World environment. The environment is initialized and visualized to provide a starting point for the human agent's interaction. Unlike the random agent, the human agent inputs actions directly from you. You are prompted to enter actions through the command line interface, allowing for real-time interaction. The key mapping is as follows:\n",
        "\n",
        "0 : left\n",
        "\n",
        "1 : right\n",
        "\n",
        "2 : down\n",
        "\n",
        "3 : up\n",
        "\n",
        "The agent's chosen actions are applied to the environment, and the resulting observations and rewards are displayed. This process is repeated for a predetermined number of time steps (in this case, 10 steps). After each step, the interaction is visualized through rendering the environment. The total reward earned in the total time steps is displayed, and the sequence of frames captured during the interaction is saved as a video for more analysis. This human agent setup enables you to actively engage with the environment and assess its dynamics and challenges from a human perspective."
      ],
      "metadata": {
        "id": "S-uFDZVMkkEF"
      }
    },
    {
      "cell_type": "code",
      "source": [
        "#_display = pyvirtualdisplay.Display(visible=False,size=(1400, 900))  # use False with Xvfb #uncomment for online visualization\n",
        "#_ = _display.start()\n",
        "#fig, ax = plt.subplots(figsize=(20, 10))\n",
        "#ax.axis('off')\n",
        "\n",
        "\n",
        "\n",
        "env = gym.make(\"PuddleWorld-v0\")\n",
        "\n",
        "obs, info = env.reset()\n",
        "total_reward = 0\n",
        "episode_rewards = []\n",
        "frames = []\n",
        "\n",
        "for time_step in range(10):\n",
        "    action = int(input(\"enter the action:\\n\"))  # take a random action\n",
        "    observation, reward, done, trunc, info = env.step(action)\n",
        "    total_reward += reward\n",
        "\n",
        "\n",
        "    image = env.render()\n",
        "    # online_rendering(image)\n",
        "    frames.append(image)\n",
        "\n",
        "\n",
        "    print(f\" t: {time_step}, observation: {observation}, reward: {reward}\")\n",
        "\n",
        "    if done:\n",
        "      print(f\"total reward in this episode: {total_reward}\")\n",
        "      episode_rewards.append(total_reward)\n",
        "      total_reward = 0\n",
        "      break\n",
        "\n",
        "env.close()\n",
        "if episode_rewards == []:\n",
        "  print(\"no episode finished in this run.\")\n",
        "else:\n",
        "  for i, reward in enumerate(episode_rewards):\n",
        "    print(f\"episode {i}: reward: {reward}\")\n",
        "visualize(frames, \"human.mp4\")\n"
      ],
      "metadata": {
        "id": "CUSYr_1BiutN",
        "colab": {
          "base_uri": "https://localhost:8080/"
        },
        "outputId": "fc59f266-f709-48e9-a124-b8c9e7c496ed"
      },
      "execution_count": 10,
      "outputs": [
        {
          "output_type": "stream",
          "name": "stdout",
          "text": [
            "enter the action:\n",
            "1\n",
            " t: 0, observation: [0.24429671 0.41281429], reward: -1\n",
            "enter the action:\n",
            "1\n",
            " t: 1, observation: [0.28901127 0.41288489], reward: -1\n",
            "enter the action:\n",
            "1\n",
            " t: 2, observation: [0.32163188 0.41523561], reward: -1\n",
            "enter the action:\n",
            "2\n",
            " t: 3, observation: [0.30840477 0.35476474], reward: -1\n",
            "enter the action:\n",
            "2\n",
            " t: 4, observation: [0.30967347 0.31640352], reward: -1\n",
            "enter the action:\n",
            "2\n",
            " t: 5, observation: [0.31429108 0.27199551], reward: -1\n",
            "enter the action:\n",
            "3\n",
            " t: 6, observation: [0.31786097 0.33207396], reward: -1\n",
            "enter the action:\n",
            "3\n",
            " t: 7, observation: [0.31526252 0.37791266], reward: -1\n",
            "enter the action:\n",
            "3\n",
            " t: 8, observation: [0.3194363  0.40943414], reward: -1\n",
            "enter the action:\n",
            "0\n",
            " t: 9, observation: [0.27912166 0.40302475], reward: -1\n",
            "no episode finished in this run.\n"
          ]
        }
      ]
    },
    {
      "cell_type": "markdown",
      "source": [
        "## 3.3. DQN Agent"
      ],
      "metadata": {
        "id": "6Rew9gS45hi6"
      }
    },
    {
      "cell_type": "markdown",
      "source": [
        "In this section, a  [ Deep Q-Network (DQN) agent](https://https://arxiv.org/abs/1312.5602) is utilized to interact with the Puddle World environment. The code demonstrates how to set up training with [Stable Baselines](https://stable-baselines3.readthedocs.io/en/master/), a popular library for reinforcement learning. The DQN model is initialized and trained using default hyperparameters, but you can explore and adjust these hyperparameters for optimal performance. After training, the trained model is loaded for evaluation. The environment is initialized, and the DQN agent's interaction with the environment is visualized. The agent selects actions based on the learned policy, and the environment responds accordingly. This process continues until the episode terminates. At the end of the episode, the total reward earned by the agent is displayed, and the sequence of frames captured during the interaction is saved as a video for further analysis. While the provided code serves as a starting point for training a DQN agent with stable baselines if you wish to use this library, you are encouraged to experiment with different hyperparameters to improve the agent's performance in navigating the complex dynamics of the Puddle World environment. We encourage you to explore more algorithms in the same library or build your agents from scratch."
      ],
      "metadata": {
        "id": "jAcvJ3mSlMT2"
      }
    },
    {
      "cell_type": "code",
      "source": [
        "#train the model, and save the trained model\n",
        "env = gym.make(\"PuddleWorld-v0\")\n",
        "dqn_model = DQN(DQNPolicy, env, verbose=1)\n",
        "dqn_model.learn(total_timesteps=int(1e5))\n",
        "dqn_model.save(\"dqn_model\")"
      ],
      "metadata": {
        "id": "qBddK5ugiHTx",
        "colab": {
          "base_uri": "https://localhost:8080/"
        },
        "outputId": "fc17ac05-43bf-44ac-d3cf-3c9e3d70031a"
      },
      "execution_count": 11,
      "outputs": [
        {
          "output_type": "stream",
          "name": "stdout",
          "text": [
            "Using cpu device\n",
            "Wrapping the env with a `Monitor` wrapper\n",
            "Wrapping the env in a DummyVecEnv.\n",
            "-----------------------------------\n",
            "| rollout/            |           |\n",
            "|    ep_len_mean      | 1.92e+03  |\n",
            "|    ep_rew_mean      | -2.01e+04 |\n",
            "|    exploration_rate | 0.272     |\n",
            "| time/               |           |\n",
            "|    episodes         | 4         |\n",
            "|    fps              | 815       |\n",
            "|    time_elapsed     | 9         |\n",
            "|    total_timesteps  | 7665      |\n",
            "| train/              |           |\n",
            "|    learning_rate    | 0.0001    |\n",
            "|    loss             | 4.37      |\n",
            "|    n_updates        | 1891      |\n",
            "-----------------------------------\n",
            "-----------------------------------\n",
            "| rollout/            |           |\n",
            "|    ep_len_mean      | 5.17e+03  |\n",
            "|    ep_rew_mean      | -1.45e+04 |\n",
            "|    exploration_rate | 0.05      |\n",
            "| time/               |           |\n",
            "|    episodes         | 8         |\n",
            "|    fps              | 669       |\n",
            "|    time_elapsed     | 61        |\n",
            "|    total_timesteps  | 41391     |\n",
            "| train/              |           |\n",
            "|    learning_rate    | 0.0001    |\n",
            "|    loss             | 0.000283  |\n",
            "|    n_updates        | 10322     |\n",
            "-----------------------------------\n",
            "-----------------------------------\n",
            "| rollout/            |           |\n",
            "|    ep_len_mean      | 5.99e+03  |\n",
            "|    ep_rew_mean      | -1.22e+04 |\n",
            "|    exploration_rate | 0.05      |\n",
            "| time/               |           |\n",
            "|    episodes         | 12        |\n",
            "|    fps              | 681       |\n",
            "|    time_elapsed     | 105       |\n",
            "|    total_timesteps  | 71937     |\n",
            "| train/              |           |\n",
            "|    learning_rate    | 0.0001    |\n",
            "|    loss             | 0.00149   |\n",
            "|    n_updates        | 17959     |\n",
            "-----------------------------------\n",
            "-----------------------------------\n",
            "| rollout/            |           |\n",
            "|    ep_len_mean      | 5.92e+03  |\n",
            "|    ep_rew_mean      | -1.06e+04 |\n",
            "|    exploration_rate | 0.05      |\n",
            "| time/               |           |\n",
            "|    episodes         | 16        |\n",
            "|    fps              | 682       |\n",
            "|    time_elapsed     | 138       |\n",
            "|    total_timesteps  | 94772     |\n",
            "| train/              |           |\n",
            "|    learning_rate    | 0.0001    |\n",
            "|    loss             | 0.000605  |\n",
            "|    n_updates        | 23667     |\n",
            "-----------------------------------\n"
          ]
        }
      ]
    },
    {
      "cell_type": "code",
      "source": [
        "dqn_model = DQN.load(\"dqn_model\")\n",
        "env = gym.make(\"PuddleWorld-v0\")\n",
        "\n",
        "obs, info = env.reset()\n",
        "\n",
        "# Create an empty list to store the frames\n",
        "frames = []\n",
        "episode_rewards = []\n",
        "\n",
        "for episode in range(1):\n",
        "  total_reward = 0\n",
        "  done = False\n",
        "  num_steps = 0\n",
        "\n",
        "  while not done and num_steps <=1000: # to avoid infinite loops for the untuned DQN we set a truncation limit, but you should make your agent sophisticated enough to avoid infinite-step episodes\n",
        "      num_steps +=1\n",
        "      action, _states = dqn_model.predict(obs)\n",
        "      observation, reward, done, trunc, info = env.step(action)\n",
        "      total_reward += reward\n",
        "      if done == True:\n",
        "        print(\"here\")\n",
        "\n",
        "      image = env.render()\n",
        "      frames.append(image)\n",
        "\n",
        "      if done:\n",
        "        print(f\"total reward in this episode: {total_reward}\")\n",
        "        episode_rewards.append(total_reward)\n",
        "        total_reward = 0\n",
        "        break\n",
        "\n",
        "env.close()\n",
        "if episode_rewards == []:\n",
        "  print(\"no episode finished in this run.\")\n",
        "else:\n",
        "  for i, reward in enumerate(episode_rewards):\n",
        "    print(f\"episode {i}: reward: {reward}\")\n",
        "visualize(frames, \"DQN.mp4\")\n"
      ],
      "metadata": {
        "id": "AUI_JsgOtmYM",
        "colab": {
          "base_uri": "https://localhost:8080/"
        },
        "outputId": "61c70766-1d25-4719-a54d-9aa0fac71ffb"
      },
      "execution_count": 13,
      "outputs": [
        {
          "output_type": "stream",
          "name": "stdout",
          "text": [
            "no episode finished in this run.\n"
          ]
        }
      ]
    },
    {
      "cell_type": "markdown",
      "source": [
        "#4. Now It's Your Turn!"
      ],
      "metadata": {
        "id": "NvpUay3y5kYW"
      }
    },
    {
      "cell_type": "markdown",
      "source": [
        "Now, you're invited to dive into the world of reinforcement learning and take control of the Puddle World environment. We encourage you to become an active participant by modifying the provided code, tweaking parameters, and experimenting with different strategies. You can come up with your own agent ideas, or use pre-exisiting libraries, and adapt them to the problem.\n",
        "\n",
        "\n",
        "The goal is to build **a single agent that can generalize well across all the environment configurations.**\n",
        "Once you have built your agent, test your trained agent for 100 episodes, with 100 different seeds, in the five provided configurations, save the total reward in each episode for each configuration, and submit the results as a `.csv` file as indicated in the Kaggle platform.\n",
        "\n",
        " Whether you're a beginner eager to explore or an experienced practitioner seeking to refine your skills, this competition offers an opportunity to apply your knowledge and creativity.\n",
        "\n"
      ],
      "metadata": {
        "id": "SoUfMFHCl70O"
      }
    },
    {
      "cell_type": "markdown",
      "source": [
        "## 4.1. Submission Format\n",
        "\n",
        "Here you can find a sample submission. Imagine that you have the episodic rewards saved in a list as shown in the below code. You can make a `submission.csv` file with the provided format as follows."
      ],
      "metadata": {
        "id": "je02_uxV9N0c"
      }
    },
    {
      "cell_type": "code",
      "source": [
        "import pandas as pd\n",
        "\n",
        "# Assuming you have a list of 100 episodic rewards for each configuration\n",
        "# Example data structure: [(config1_rewards), (config2_rewards), ...]\n",
        "\n",
        "# Replace this example data with your actual rewards data\n",
        "episode_rewards_per_configuration = [\n",
        "     range(-120, -20),  # Configuration 1 rewards\n",
        "    range(-120, -20),   # Configuration 2 rewards\n",
        "    range(-120, -20),  # Configuration 3 rewards\n",
        "    range(-120, -20),  # Configuration 4 rewards\n",
        "   range(-120, -20),   # Configuration 5 rewards\n",
        "]\n",
        "\n",
        "# Define the column names\n",
        "columns = ['episode_ID', 'ep_reward_pw1', 'ep_reward_pw2', 'ep_reward_pw3', 'ep_reward_pw4', 'ep_reward_pw5']\n",
        "\n",
        "# Create a list of dictionaries to store data\n",
        "data = []\n",
        "\n",
        "# Populate the list with episode IDs and rewards\n",
        "for episode_id in range(1, 101):  # Assuming 100 episodes\n",
        "    row_data = {'episode_ID': episode_id}\n",
        "    for i, rewards in enumerate(episode_rewards_per_configuration):\n",
        "        row_data[columns[i + 1]] = rewards[episode_id - 1]\n",
        "    data.append(row_data)\n",
        "\n",
        "# Create DataFrame from the list of dictionaries\n",
        "df = pd.DataFrame(data)\n",
        "\n",
        "# Define the file name for saving the results\n",
        "csv_file_name = \"submission.csv\"\n",
        "\n",
        "# Save the DataFrame to a CSV file\n",
        "df.to_csv(csv_file_name, index=False)\n",
        "\n",
        "print(\"Results saved successfully to\", csv_file_name)\n"
      ],
      "metadata": {
        "id": "sAYlx07NY7sa",
        "colab": {
          "base_uri": "https://localhost:8080/"
        },
        "outputId": "38faee47-bde0-4019-fb52-f9fba690669b"
      },
      "execution_count": 14,
      "outputs": [
        {
          "output_type": "stream",
          "name": "stdout",
          "text": [
            "Results saved successfully to submission.csv\n"
          ]
        }
      ]
    },
    {
      "cell_type": "code",
      "source": [
        "import pandas as pd\n",
        "\n",
        "# Define the file name for loading the results\n",
        "csv_file_name = \"submission.csv\"\n",
        "\n",
        "# Load the CSV file into a pandas DataFrame\n",
        "df = pd.read_csv(csv_file_name)\n",
        "\n",
        "# Display the DataFrame\n",
        "print(df)"
      ],
      "metadata": {
        "id": "V1mwZltVat-9",
        "colab": {
          "base_uri": "https://localhost:8080/"
        },
        "outputId": "9f8c91f3-cc7f-41c1-b300-b862b88822f8"
      },
      "execution_count": 15,
      "outputs": [
        {
          "output_type": "stream",
          "name": "stdout",
          "text": [
            "    episode_ID  ep_reward_pw1  ep_reward_pw2  ep_reward_pw3  ep_reward_pw4  \\\n",
            "0            1           -120           -120           -120           -120   \n",
            "1            2           -119           -119           -119           -119   \n",
            "2            3           -118           -118           -118           -118   \n",
            "3            4           -117           -117           -117           -117   \n",
            "4            5           -116           -116           -116           -116   \n",
            "..         ...            ...            ...            ...            ...   \n",
            "95          96            -25            -25            -25            -25   \n",
            "96          97            -24            -24            -24            -24   \n",
            "97          98            -23            -23            -23            -23   \n",
            "98          99            -22            -22            -22            -22   \n",
            "99         100            -21            -21            -21            -21   \n",
            "\n",
            "    ep_reward_pw5  \n",
            "0            -120  \n",
            "1            -119  \n",
            "2            -118  \n",
            "3            -117  \n",
            "4            -116  \n",
            "..            ...  \n",
            "95            -25  \n",
            "96            -24  \n",
            "97            -23  \n",
            "98            -22  \n",
            "99            -21  \n",
            "\n",
            "[100 rows x 6 columns]\n"
          ]
        }
      ]
    },
    {
      "cell_type": "markdown",
      "source": [
        "# 6. Fun Bonus"
      ],
      "metadata": {
        "id": "lHLrXbuf7FH4"
      }
    },
    {
      "cell_type": "markdown",
      "source": [
        "You can also modify the properties of the environment such as the initial state, puddle locations, and more. You can play around with the environment and challenge your agent to tackle the hardest versions of this environment!"
      ],
      "metadata": {
        "id": "XwxRkDNivkUi"
      }
    },
    {
      "cell_type": "code",
      "source": [
        "env = gym.make(\n",
        "        \"PuddleWorld-v0\",\n",
        "        start=[0.5,0.5],\n",
        "        goal=[1.,1.],\n",
        "        goal_threshold=0.1,\n",
        "        noise=0.01,\n",
        "        thrust=0.05,\n",
        "        puddle_top_left=[[0.1  , 0.8],[0.5, 0.1 ]],\n",
        "        puddle_width=[[0.1, 0.1 ],[0.3, 0.1]]\n",
        "    )\n",
        "\n",
        "obs, info = env.reset()\n",
        "fig, ax = plt.subplots(figsize=(20, 10))\n",
        "ax.axis('off')\n",
        "img = env.render()\n",
        "img_with_frame = np.zeros((img.shape[0]+2, img.shape[1]+2, 3), dtype=np.uint8)\n",
        "img_with_frame[1:-1, 1:-1, :] = img\n",
        "img = ax.imshow(img_with_frame)\n",
        "display.display(plt.gcf())\n",
        "display.clear_output(wait=True)\n"
      ],
      "metadata": {
        "id": "EkxQLUa_ib18",
        "colab": {
          "base_uri": "https://localhost:8080/",
          "height": 808
        },
        "outputId": "bfd3e6c7-198d-4dc8-bb8d-68e2429ea76c"
      },
      "execution_count": 16,
      "outputs": [
        {
          "output_type": "display_data",
          "data": {
            "text/plain": [
              "<Figure size 2000x1000 with 1 Axes>"
            ],
            "image/png": "[encoded data removed]"
          },
          "metadata": {}
        }
      ]
    }
  ]
}